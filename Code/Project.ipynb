{
 "cells": [
  {
   "cell_type": "code",
   "execution_count": 19,
   "metadata": {},
   "outputs": [
    {
     "name": "stdout",
     "output_type": "stream",
     "text": [
      "Unnamed: 0                                                                                            Country\n",
      "Unnamed: 1                                                                                               Year\n",
      "Premature deaths due to noncommunicable diseases (NCD) as a proportion of all NCD deaths (%)       Both sexes\n",
      "Premature deaths due to noncommunicable diseases (NCD) as a proportion of all NCD deaths (%).1           Male\n",
      "Premature deaths due to noncommunicable diseases (NCD) as a proportion of all NCD deaths (%).2         Female\n",
      "Name: 0, dtype: object\n",
      "(3660, 5)\n"
     ]
    },
    {
     "data": {
      "text/html": [
       "<div>\n",
       "<style scoped>\n",
       "    .dataframe tbody tr th:only-of-type {\n",
       "        vertical-align: middle;\n",
       "    }\n",
       "\n",
       "    .dataframe tbody tr th {\n",
       "        vertical-align: top;\n",
       "    }\n",
       "\n",
       "    .dataframe thead th {\n",
       "        text-align: right;\n",
       "    }\n",
       "</style>\n",
       "<table border=\"1\" class=\"dataframe\">\n",
       "  <thead>\n",
       "    <tr style=\"text-align: right;\">\n",
       "      <th></th>\n",
       "      <th>Country</th>\n",
       "      <th>Year</th>\n",
       "      <th>Both sexes</th>\n",
       "      <th>Male</th>\n",
       "      <th>Female</th>\n",
       "    </tr>\n",
       "  </thead>\n",
       "  <tbody>\n",
       "    <tr>\n",
       "      <th>1</th>\n",
       "      <td>Afghanistan</td>\n",
       "      <td>2019</td>\n",
       "      <td>66.5 [49.7-78.0]</td>\n",
       "      <td>70.1 [54.6-80.4]</td>\n",
       "      <td>63.3 [45.5-75.7]</td>\n",
       "    </tr>\n",
       "    <tr>\n",
       "      <th>2</th>\n",
       "      <td>Afghanistan</td>\n",
       "      <td>2018</td>\n",
       "      <td>66.6 [49.6-78.1]</td>\n",
       "      <td>70.1 [54.4-80.4]</td>\n",
       "      <td>63.3 [45.3-75.8]</td>\n",
       "    </tr>\n",
       "    <tr>\n",
       "      <th>3</th>\n",
       "      <td>Afghanistan</td>\n",
       "      <td>2017</td>\n",
       "      <td>66.6 [49.4-78.2]</td>\n",
       "      <td>70.3 [54.3-80.8]</td>\n",
       "      <td>63.2 [45.0-75.8]</td>\n",
       "    </tr>\n",
       "    <tr>\n",
       "      <th>4</th>\n",
       "      <td>Afghanistan</td>\n",
       "      <td>2016</td>\n",
       "      <td>67.5 [50.1-79.0]</td>\n",
       "      <td>70.7 [54.5-81.1]</td>\n",
       "      <td>64.5 [46.2-77.0]</td>\n",
       "    </tr>\n",
       "    <tr>\n",
       "      <th>5</th>\n",
       "      <td>Afghanistan</td>\n",
       "      <td>2015</td>\n",
       "      <td>68.2 [50.9-79.7]</td>\n",
       "      <td>71.3 [55.2-81.7]</td>\n",
       "      <td>65.4 [46.9-77.7]</td>\n",
       "    </tr>\n",
       "    <tr>\n",
       "      <th>...</th>\n",
       "      <td>...</td>\n",
       "      <td>...</td>\n",
       "      <td>...</td>\n",
       "      <td>...</td>\n",
       "      <td>...</td>\n",
       "    </tr>\n",
       "    <tr>\n",
       "      <th>3656</th>\n",
       "      <td>Zimbabwe</td>\n",
       "      <td>2004</td>\n",
       "      <td>56.2 [40.5-68.9]</td>\n",
       "      <td>60.6 [45.9-72.3]</td>\n",
       "      <td>52.9 [36.6-66.3]</td>\n",
       "    </tr>\n",
       "    <tr>\n",
       "      <th>3657</th>\n",
       "      <td>Zimbabwe</td>\n",
       "      <td>2003</td>\n",
       "      <td>55.5 [39.7-68.4]</td>\n",
       "      <td>60.1 [45.4-71.9]</td>\n",
       "      <td>51.9 [35.4-65.6]</td>\n",
       "    </tr>\n",
       "    <tr>\n",
       "      <th>3658</th>\n",
       "      <td>Zimbabwe</td>\n",
       "      <td>2002</td>\n",
       "      <td>55.8 [40.0-68.6]</td>\n",
       "      <td>59.8 [45.2-71.5]</td>\n",
       "      <td>52.3 [35.7-66.1]</td>\n",
       "    </tr>\n",
       "    <tr>\n",
       "      <th>3659</th>\n",
       "      <td>Zimbabwe</td>\n",
       "      <td>2001</td>\n",
       "      <td>55.9 [40.1-68.8]</td>\n",
       "      <td>59.3 [44.7-71.1]</td>\n",
       "      <td>52.8 [35.8-66.7]</td>\n",
       "    </tr>\n",
       "    <tr>\n",
       "      <th>3660</th>\n",
       "      <td>Zimbabwe</td>\n",
       "      <td>2000</td>\n",
       "      <td>56.9 [41.0-69.6]</td>\n",
       "      <td>59.4 [45.0-71.0]</td>\n",
       "      <td>54.6 [37.3-68.4]</td>\n",
       "    </tr>\n",
       "  </tbody>\n",
       "</table>\n",
       "<p>3660 rows × 5 columns</p>\n",
       "</div>"
      ],
      "text/plain": [
       "0         Country   Year        Both sexes              Male            Female\n",
       "1     Afghanistan   2019  66.5 [49.7-78.0]  70.1 [54.6-80.4]  63.3 [45.5-75.7]\n",
       "2     Afghanistan   2018  66.6 [49.6-78.1]  70.1 [54.4-80.4]  63.3 [45.3-75.8]\n",
       "3     Afghanistan   2017  66.6 [49.4-78.2]  70.3 [54.3-80.8]  63.2 [45.0-75.8]\n",
       "4     Afghanistan   2016  67.5 [50.1-79.0]  70.7 [54.5-81.1]  64.5 [46.2-77.0]\n",
       "5     Afghanistan   2015  68.2 [50.9-79.7]  71.3 [55.2-81.7]  65.4 [46.9-77.7]\n",
       "...           ...    ...               ...               ...               ...\n",
       "3656     Zimbabwe   2004  56.2 [40.5-68.9]  60.6 [45.9-72.3]  52.9 [36.6-66.3]\n",
       "3657     Zimbabwe   2003  55.5 [39.7-68.4]  60.1 [45.4-71.9]  51.9 [35.4-65.6]\n",
       "3658     Zimbabwe   2002  55.8 [40.0-68.6]  59.8 [45.2-71.5]  52.3 [35.7-66.1]\n",
       "3659     Zimbabwe   2001  55.9 [40.1-68.8]  59.3 [44.7-71.1]  52.8 [35.8-66.7]\n",
       "3660     Zimbabwe   2000  56.9 [41.0-69.6]  59.4 [45.0-71.0]  54.6 [37.3-68.4]\n",
       "\n",
       "[3660 rows x 5 columns]"
      ]
     },
     "execution_count": 19,
     "metadata": {},
     "output_type": "execute_result"
    }
   ],
   "source": [
    "import pandas as pd\n",
    "from pandas import Series\n",
    "import seaborn as sns\n",
    "import pylab\n",
    "import numpy as npp\n",
    "import matplotlib.pyplot as plt\n",
    "from matplotlib import pyplot as plt\n",
    "\n",
    "df = pd.read_csv('E:/#Utem/Sem6/IDS/Project/Data/NCD_UNDER70.csv')\n",
    "new_header = df.iloc[0] \n",
    "df = df[1:] \n",
    "df.columns = new_header \n",
    "\n",
    "print(new_header)\n",
    "print(df.shape)\n",
    "df.head(3660)"
   ]
  },
  {
   "cell_type": "code",
   "execution_count": 20,
   "metadata": {},
   "outputs": [
    {
     "name": "stdout",
     "output_type": "stream",
     "text": [
      "<class 'pandas.core.frame.DataFrame'>\n",
      "RangeIndex: 3660 entries, 1 to 3660\n",
      "Data columns (total 5 columns):\n",
      " #   Column       Non-Null Count  Dtype \n",
      "---  ------       --------------  ----- \n",
      " 0   Country      3660 non-null   object\n",
      " 1   Year         3660 non-null   object\n",
      " 2    Both sexes  3660 non-null   object\n",
      " 3    Male        3660 non-null   object\n",
      " 4    Female      3660 non-null   object\n",
      "dtypes: object(5)\n",
      "memory usage: 143.1+ KB\n",
      "\n",
      "\n"
     ]
    }
   ],
   "source": [
    "df.info()\n",
    "print('\\n')"
   ]
  },
  {
   "cell_type": "code",
   "execution_count": 21,
   "metadata": {},
   "outputs": [
    {
     "name": "stdout",
     "output_type": "stream",
     "text": [
      "0         Country   Year        Both sexes\n",
      "1     Afghanistan   2019  66.5 [49.7-78.0]\n",
      "2     Afghanistan   2018  66.6 [49.6-78.1]\n",
      "3     Afghanistan   2017  66.6 [49.4-78.2]\n",
      "4     Afghanistan   2016  67.5 [50.1-79.0]\n",
      "5     Afghanistan   2015  68.2 [50.9-79.7]\n",
      "...           ...    ...               ...\n",
      "3656     Zimbabwe   2004  56.2 [40.5-68.9]\n",
      "3657     Zimbabwe   2003  55.5 [39.7-68.4]\n",
      "3658     Zimbabwe   2002  55.8 [40.0-68.6]\n",
      "3659     Zimbabwe   2001  55.9 [40.1-68.8]\n",
      "3660     Zimbabwe   2000  56.9 [41.0-69.6]\n",
      "\n",
      "[3660 rows x 3 columns]\n"
     ]
    }
   ],
   "source": [
    "#Remove unwanted columns\n",
    "df= df.drop(columns=[' Male',' Female'])\n",
    "print(df)"
   ]
  },
  {
   "cell_type": "code",
   "execution_count": 22,
   "metadata": {},
   "outputs": [
    {
     "name": "stdout",
     "output_type": "stream",
     "text": [
      "0               Country   Year        Both sexes\n",
      "461   Brunei Darussalam   2019  53.6 [42.9-63.1]\n",
      "462   Brunei Darussalam   2018  54.1 [43.6-63.4]\n",
      "463   Brunei Darussalam   2017  55.0 [44.8-64.0]\n",
      "464   Brunei Darussalam   2016  55.4 [45.4-64.2]\n",
      "465   Brunei Darussalam   2015  56.0 [46.3-64.6]\n",
      "...                 ...    ...               ...\n",
      "3596           Viet Nam   2004  34.3 [24.0-44.7]\n",
      "3597           Viet Nam   2003  34.3 [23.9-44.9]\n",
      "3598           Viet Nam   2002  34.7 [24.0-45.5]\n",
      "3599           Viet Nam   2001  35.1 [24.2-46.0]\n",
      "3600           Viet Nam   2000  35.7 [24.5-46.9]\n",
      "\n",
      "[180 rows x 3 columns]\n"
     ]
    }
   ],
   "source": [
    "options = [\"Malaysia\",\"Singapore\",\"Indonesia\",\"Thailand\",\"Viet Nam\",\"Philippines\",\"Myanmar\",\"Cambodia\",\"Brunei Darussalam\"] \n",
    "    # selecting rows based on condition \n",
    "df = df[df['Country'].isin(options)]\n",
    "\n",
    "print(df)"
   ]
  },
  {
   "cell_type": "code",
   "execution_count": 23,
   "metadata": {},
   "outputs": [
    {
     "name": "stdout",
     "output_type": "stream",
     "text": [
      "0               Country   Year        Both sexes  bsVal\n",
      "461   Brunei Darussalam   2019  53.6 [42.9-63.1]   53.6\n",
      "462   Brunei Darussalam   2018  54.1 [43.6-63.4]   54.1\n",
      "463   Brunei Darussalam   2017  55.0 [44.8-64.0]   55.0\n",
      "464   Brunei Darussalam   2016  55.4 [45.4-64.2]   55.4\n",
      "465   Brunei Darussalam   2015  56.0 [46.3-64.6]   56.0\n",
      "...                 ...    ...               ...    ...\n",
      "3596           Viet Nam   2004  34.3 [24.0-44.7]   34.3\n",
      "3597           Viet Nam   2003  34.3 [23.9-44.9]   34.3\n",
      "3598           Viet Nam   2002  34.7 [24.0-45.5]   34.7\n",
      "3599           Viet Nam   2001  35.1 [24.2-46.0]   35.1\n",
      "3600           Viet Nam   2000  35.7 [24.5-46.9]   35.7\n",
      "\n",
      "[180 rows x 4 columns]\n"
     ]
    }
   ],
   "source": [
    "#df['Year'] = df['Year'].astype(int)\n",
    "#df = df[(df['Year'] > 2014)]\n",
    "\n",
    "df['bsVal'] = df[' Both sexes'].astype(str).str[:4]\n",
    "df['bsVal'] = df['bsVal'].astype(float)\n",
    "print(df)"
   ]
  },
  {
   "cell_type": "code",
   "execution_count": 24,
   "metadata": {},
   "outputs": [
    {
     "data": {
      "text/plain": [
       "<matplotlib.axes._subplots.AxesSubplot at 0x2abc5220c10>"
      ]
     },
     "execution_count": 24,
     "metadata": {},
     "output_type": "execute_result"
    },
    {
     "data": {
      "image/png": "[encoded data removed]",
      "text/plain": [
       "<Figure size 432x288 with 1 Axes>"
      ]
     },
     "metadata": {
      "needs_background": "light"
     },
     "output_type": "display_data"
    }
   ],
   "source": [
    "df = df.pivot(index='Year', columns='Country', values='bsVal')\n",
    "\n",
    "df.plot()"
   ]
  },
  {
   "cell_type": "code",
   "execution_count": 25,
   "metadata": {},
   "outputs": [],
   "source": [
    "df.to_csv(r'E:/#Utem/Sem6/IDS/Project/Data/PrematureData.csv')"
   ]
  }
 ],
 "metadata": {
  "kernelspec": {
   "display_name": "Python 3",
   "language": "python",
   "name": "python3"
  },
  "language_info": {
   "codemirror_mode": {
    "name": "ipython",
    "version": 3
   },
   "file_extension": ".py",
   "mimetype": "text/x-python",
   "name": "python",
   "nbconvert_exporter": "python",
   "pygments_lexer": "ipython3",
   "version": "3.8.3"
  }
 },
 "nbformat": 4,
 "nbformat_minor": 4
}
